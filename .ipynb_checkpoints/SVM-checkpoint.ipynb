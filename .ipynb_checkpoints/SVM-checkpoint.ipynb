{
 "cells": [
  {
   "cell_type": "code",
   "execution_count": 1,
   "metadata": {},
   "outputs": [],
   "source": [
    "import os\n",
    "import sys\n",
    "import matplotlib.pyplot as plt\n",
    "import matplotlib.image as mpimg\n",
    "from PIL import Image\n",
    "import numpy as np\n",
    "from sklearn.svm import SVC\n",
    "from sklearn.model_selection import train_test_split\n",
    "from sklearn import svm\n",
    "from sklearn.neural_network import MLPClassifier\n",
    "from sklearn.model_selection import GridSearchCV\n",
    "from sklearn.decomposition import NMF"
   ]
  },
  {
   "cell_type": "code",
   "execution_count": 2,
   "metadata": {},
   "outputs": [],
   "source": [
    "root = \"./boat-types-recognition/cropped/\""
   ]
  },
  {
   "cell_type": "code",
   "execution_count": 3,
   "metadata": {
    "scrolled": true
   },
   "outputs": [
    {
     "name": "stdout",
     "output_type": "stream",
     "text": [
      "Calculating original data size ...\n",
      "Progress calculating: 100.00%\r"
     ]
    }
   ],
   "source": [
    "## Original Data Size\n",
    "print(\"Calculating original data size ...\")\n",
    "\n",
    "count = 0\n",
    "heights=[]\n",
    "widths=[]\n",
    "for path, subdirs, files in os.walk(root):\n",
    "    for name in files:\n",
    "        if name.find(\".DS_Store\") == -1:\n",
    "            img_path = os.path.join(path, name)\n",
    "            img = Image.open(img_path).convert('L')\n",
    "            w,h = img.size\n",
    "            widths.append(w)\n",
    "            heights.append(h)\n",
    "            count += 1\n",
    "            sys.stdout.write(\"Progress calculating: {:.2%}\\r\".format(count/(1585)))\n",
    "            sys.stdout.flush()\n",
    "            \n",
    "min_height = min(heights)\n",
    "min_width = min(widths)\n",
    "total = count"
   ]
  },
  {
   "cell_type": "code",
   "execution_count": 4,
   "metadata": {},
   "outputs": [
    {
     "name": "stdout",
     "output_type": "stream",
     "text": [
      "Number of image:  1585\n",
      "Min image height:  10\n",
      "Min image width:  24\n"
     ]
    }
   ],
   "source": [
    "print(\"Number of image: \", total)\n",
    "print(\"Min image height: \", min_height)\n",
    "print(\"Min image width: \", min_width)"
   ]
  },
  {
   "cell_type": "code",
   "execution_count": 5,
   "metadata": {},
   "outputs": [],
   "source": [
    "resize_W,resize_H = 100, 100"
   ]
  },
  {
   "cell_type": "code",
   "execution_count": 6,
   "metadata": {},
   "outputs": [
    {
     "name": "stdout",
     "output_type": "stream",
     "text": [
      "Progress calculating: 100.00%\r"
     ]
    }
   ],
   "source": [
    "#Generating same size, gray picture\n",
    "\n",
    "count = 0\n",
    "images = []\n",
    "labels = []\n",
    "index = 0\n",
    "for path, subdirs, files in os.walk(root):\n",
    "    for name in files:\n",
    "        if name.find(\".DS_Store\") == -1:\n",
    "            img_path = os.path.join(path, name)\n",
    "            img = Image.open(img_path).convert('L')\n",
    "            label = index\n",
    "            img_new = img.resize((resize_W,resize_H))\n",
    "            img_array = np.array(img_new).reshape(-1)\n",
    "            images.append(img_array)\n",
    "            labels.append(label)\n",
    "            count += 1\n",
    "            sys.stdout.write(\"Progress calculating: {:.2%}\\r\".format(count/(1585)))\n",
    "            sys.stdout.flush()\n",
    "    index += 1\n",
    "            \n",
    "X = np.array(images)\n",
    "Y = np.array(labels)            "
   ]
  },
  {
   "cell_type": "code",
   "execution_count": 7,
   "metadata": {},
   "outputs": [
    {
     "data": {
      "text/plain": [
       "(1585, 10000)"
      ]
     },
     "execution_count": 7,
     "metadata": {},
     "output_type": "execute_result"
    }
   ],
   "source": [
    "X.shape"
   ]
  },
  {
   "cell_type": "code",
   "execution_count": 8,
   "metadata": {},
   "outputs": [
    {
     "name": "stdout",
     "output_type": "stream",
     "text": [
      "Spliting Test / Train sets ...\n"
     ]
    }
   ],
   "source": [
    "## Split Test / Train\n",
    "print(\"Spliting Test / Train sets ...\")\n",
    "\n",
    "X_train, X_test, y_train, y_test = train_test_split(X, Y, test_size=0.3, random_state=42)"
   ]
  },
  {
   "cell_type": "code",
   "execution_count": 9,
   "metadata": {
    "scrolled": true
   },
   "outputs": [
    {
     "name": "stdout",
     "output_type": "stream",
     "text": [
      "X train shape:  (1109, 10000)\n",
      "Y train size:  1109\n",
      "X test shape:  (476, 10000)\n",
      "Y test size:  476\n"
     ]
    }
   ],
   "source": [
    "## Data Size (after spliting)\n",
    "print(\"X train shape: \", X_train.shape)\n",
    "print(\"Y train size: \", y_train.size)\n",
    "print(\"X test shape: \", X_test.shape)\n",
    "print(\"Y test size: \", y_test.size)"
   ]
  },
  {
   "cell_type": "code",
   "execution_count": 10,
   "metadata": {},
   "outputs": [
    {
     "name": "stdout",
     "output_type": "stream",
     "text": [
      "NMF ...\n",
      "violation: 1.0\n",
      "violation: 0.17725105161515078\n",
      "violation: 0.10240500848096648\n",
      "violation: 0.08024020895333475\n",
      "Converged at iteration 4\n"
     ]
    }
   ],
   "source": [
    "## NMF\n",
    "print(\"NMF ...\")\n",
    "components = 900\n",
    "nmf = NMF(n_components=components, init='random', random_state=0, tol=0.1, verbose=True)\n",
    "\n",
    "W = nmf.fit_transform(X_train)\n",
    "H = nmf.components_\n",
    "X_train_reduced = W"
   ]
  },
  {
   "cell_type": "code",
   "execution_count": 11,
   "metadata": {},
   "outputs": [
    {
     "name": "stdout",
     "output_type": "stream",
     "text": [
      "X train reduced shape: (1109, 900)\n"
     ]
    }
   ],
   "source": [
    "print(\"X train reduced shape:\",X_train_reduced.shape)"
   ]
  },
  {
   "cell_type": "code",
   "execution_count": 31,
   "metadata": {},
   "outputs": [
    {
     "name": "stdout",
     "output_type": "stream",
     "text": [
      "Training......\n"
     ]
    },
    {
     "data": {
      "text/plain": [
       "0.9386834986474302"
      ]
     },
     "execution_count": 31,
     "metadata": {},
     "output_type": "execute_result"
    }
   ],
   "source": [
    "# Create the SVC model \n",
    "print(\"Training......\")\n",
    "svc_model = svm.SVC(gamma='auto',kernel='rbf',C=1)\n",
    "\n",
    "# Fit the data to the SVC model\n",
    "svc_model.fit(X_train_reduced, y_train)\n",
    "svc_model.score(X_train_reduced, y_train)  "
   ]
  },
  {
   "cell_type": "code",
   "execution_count": 13,
   "metadata": {},
   "outputs": [
    {
     "name": "stdout",
     "output_type": "stream",
     "text": [
      "NMF for testing data\n",
      "violation: 1.0\n",
      "violation: 0.6687254595313054\n",
      "violation: 0.4757744714883664\n",
      "violation: 0.38517593230034164\n",
      "violation: 0.340384658787855\n",
      "violation: 0.30729175949742704\n",
      "violation: 0.28626036402394195\n",
      "violation: 0.2704654156741913\n",
      "violation: 0.2554374581908326\n",
      "violation: 0.24314997911677394\n",
      "violation: 0.2293887104629931\n",
      "violation: 0.22016936085486394\n",
      "violation: 0.21248416723738967\n",
      "violation: 0.20504293641288568\n",
      "violation: 0.19647357723827902\n",
      "violation: 0.1869608392625761\n",
      "violation: 0.17802632260198673\n",
      "violation: 0.17225657378749495\n",
      "violation: 0.16420539799157083\n",
      "violation: 0.1574442261025966\n",
      "violation: 0.15186582379322905\n",
      "violation: 0.1450884172093351\n",
      "violation: 0.1382348803207456\n",
      "violation: 0.1331490616978996\n",
      "violation: 0.12689018250249653\n",
      "violation: 0.122626983021143\n",
      "violation: 0.11833398063357801\n",
      "violation: 0.11436864808916397\n",
      "violation: 0.11002611595672332\n",
      "violation: 0.10609239894429649\n",
      "violation: 0.10299624391389198\n",
      "violation: 0.09939152499664568\n",
      "Converged at iteration 32\n"
     ]
    }
   ],
   "source": [
    "# testing data nmf\n",
    "print(\"NMF for testing data\")\n",
    "X_test_reduced = nmf.transform(X_test)"
   ]
  },
  {
   "cell_type": "code",
   "execution_count": 32,
   "metadata": {},
   "outputs": [
    {
     "name": "stdout",
     "output_type": "stream",
     "text": [
      "Testing.....\n"
     ]
    },
    {
     "data": {
      "text/plain": [
       "0.3907563025210084"
      ]
     },
     "execution_count": 32,
     "metadata": {},
     "output_type": "execute_result"
    }
   ],
   "source": [
    "#Testing\n",
    "print(\"Testing.....\")\n",
    "y_hat = svc_model.predict(X_test_reduced)\n",
    "svc_model.score(X_test_reduced, y_test)  "
   ]
  },
  {
   "cell_type": "code",
   "execution_count": 15,
   "metadata": {},
   "outputs": [
    {
     "name": "stdout",
     "output_type": "stream",
     "text": [
      "accuracy: 0.4054621848739496\n",
      "precision: [0.         0.         0.         0.         0.4893617  0.\n",
      " 0.25714286 0.         0.41346154]\n",
      "recall: [0.         0.         0.         0.         0.46938776 0.\n",
      " 0.2195122  0.         0.76331361]\n",
      "F1: [0.         0.         0.         0.         0.47916667 0.\n",
      " 0.23684211 0.         0.53638254]\n"
     ]
    },
    {
     "name": "stderr",
     "output_type": "stream",
     "text": [
      "c:\\users\\sandy\\appdata\\local\\programs\\python\\python37-32\\lib\\site-packages\\sklearn\\metrics\\classification.py:1143: UndefinedMetricWarning: Precision is ill-defined and being set to 0.0 in labels with no predicted samples.\n",
      "  'precision', 'predicted', average, warn_for)\n",
      "c:\\users\\sandy\\appdata\\local\\programs\\python\\python37-32\\lib\\site-packages\\sklearn\\metrics\\classification.py:1143: UndefinedMetricWarning: F-score is ill-defined and being set to 0.0 in labels with no predicted samples.\n",
      "  'precision', 'predicted', average, warn_for)\n"
     ]
    }
   ],
   "source": [
    "## Evaluations \n",
    "from sklearn.metrics import accuracy_score, auc, precision_score, recall_score, f1_score, roc_curve\n",
    "print(\"accuracy: \" + str(accuracy_score(y_test, y_hat)))\n",
    "print(\"precision: \" + str(precision_score(y_test, y_hat, average=None)))\n",
    "print(\"recall: \" + str(recall_score(y_test, y_hat, average=None)))\n",
    "print(\"F1: \" + str(f1_score(y_test, y_hat, average=None)))"
   ]
  },
  {
   "cell_type": "code",
   "execution_count": 16,
   "metadata": {
    "scrolled": true
   },
   "outputs": [
    {
     "name": "stdout",
     "output_type": "stream",
     "text": [
      "0\n",
      "4\n",
      "65\n",
      "24\n",
      "16\n",
      "98\n",
      "7\n",
      "82\n",
      "11\n",
      "169\n"
     ]
    }
   ],
   "source": [
    "for i in range(10):\n",
    "    print(np.count_nonzero(y_test == i))"
   ]
  },
  {
   "cell_type": "code",
   "execution_count": 17,
   "metadata": {},
   "outputs": [
    {
     "name": "stdout",
     "output_type": "stream",
     "text": [
      "0\n",
      "0\n",
      "0\n",
      "0\n",
      "0\n",
      "94\n",
      "0\n",
      "70\n",
      "0\n",
      "312\n"
     ]
    }
   ],
   "source": [
    "for i in range(10):\n",
    "    print(np.count_nonzero(y_hat == i))"
   ]
  },
  {
   "cell_type": "code",
   "execution_count": 18,
   "metadata": {},
   "outputs": [
    {
     "name": "stdout",
     "output_type": "stream",
     "text": [
      "0\n",
      "26\n",
      "155\n",
      "43\n",
      "22\n",
      "224\n",
      "22\n",
      "236\n",
      "26\n",
      "355\n"
     ]
    }
   ],
   "source": [
    "for i in range(10):\n",
    "    print(np.count_nonzero(y_train == i))"
   ]
  },
  {
   "cell_type": "code",
   "execution_count": null,
   "metadata": {},
   "outputs": [],
   "source": []
  }
 ],
 "metadata": {
  "kernelspec": {
   "display_name": "Python 3",
   "language": "python",
   "name": "python3"
  },
  "language_info": {
   "codemirror_mode": {
    "name": "ipython",
    "version": 3
   },
   "file_extension": ".py",
   "mimetype": "text/x-python",
   "name": "python",
   "nbconvert_exporter": "python",
   "pygments_lexer": "ipython3",
   "version": "3.7.0"
  }
 },
 "nbformat": 4,
 "nbformat_minor": 2
}
