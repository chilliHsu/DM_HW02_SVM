{
 "cells": [
  {
   "cell_type": "code",
   "execution_count": 1,
   "metadata": {},
   "outputs": [],
   "source": [
    "import os\n",
    "import sys\n",
    "import matplotlib.pyplot as plt\n",
    "import matplotlib.image as mpimg\n",
    "from PIL import Image\n",
    "import numpy as np\n",
    "from sklearn.svm import SVC\n",
    "from sklearn.model_selection import train_test_split\n",
    "from sklearn import svm\n",
    "from sklearn.neural_network import MLPClassifier\n",
    "from sklearn.model_selection import GridSearchCV"
   ]
  },
  {
   "cell_type": "code",
   "execution_count": 2,
   "metadata": {},
   "outputs": [],
   "source": [
    "root = \"./boat-types-recognition/images/\""
   ]
  },
  {
   "cell_type": "code",
   "execution_count": 3,
   "metadata": {
    "scrolled": true
   },
   "outputs": [
    {
     "name": "stdout",
     "output_type": "stream",
     "text": [
      "Calculating original data size ...\n",
      "Progress calculating: 100.00%\r"
     ]
    }
   ],
   "source": [
    "## Original Data Size\n",
    "print(\"Calculating original data size ...\")\n",
    "\n",
    "count = 0\n",
    "heights=[]\n",
    "widths=[]\n",
    "for path, subdirs, files in os.walk(root):\n",
    "    for name in files:\n",
    "        if name.find(\".DS_Store\") == -1:\n",
    "            img_path = os.path.join(path, name)\n",
    "            img = Image.open(img_path).convert('L')\n",
    "            w,h = img.size\n",
    "            widths.append(w)\n",
    "            heights.append(h)\n",
    "            count += 1\n",
    "            sys.stdout.write(\"Progress calculating: {:.2%}\\r\".format(count/(1462)))\n",
    "            sys.stdout.flush()\n",
    "            \n",
    "min_height = min(heights)\n",
    "min_width = min(widths)\n",
    "total = count"
   ]
  },
  {
   "cell_type": "code",
   "execution_count": 4,
   "metadata": {},
   "outputs": [
    {
     "name": "stdout",
     "output_type": "stream",
     "text": [
      "Number of image:  1462\n",
      "Min image height:  261\n",
      "Min image width:  309\n"
     ]
    }
   ],
   "source": [
    "print(\"Number of image: \", total)\n",
    "print(\"Min image height: \", min_height)\n",
    "print(\"Min image width: \", min_width)"
   ]
  },
  {
   "cell_type": "code",
   "execution_count": 5,
   "metadata": {},
   "outputs": [],
   "source": [
    "resize_W,resize_H = 100, 100"
   ]
  },
  {
   "cell_type": "code",
   "execution_count": 6,
   "metadata": {},
   "outputs": [
    {
     "name": "stdout",
     "output_type": "stream",
     "text": [
      "Progress calculating: 100.00%\r"
     ]
    }
   ],
   "source": [
    "#Generating same size, gray picture\n",
    "\n",
    "count = 0\n",
    "images = []\n",
    "labels = []\n",
    "index = 0\n",
    "for path, subdirs, files in os.walk(root):\n",
    "    for name in files:\n",
    "        if name.find(\".DS_Store\") == -1:\n",
    "            img_path = os.path.join(path, name)\n",
    "            img = Image.open(img_path).convert('L')\n",
    "            label = index\n",
    "            img_new = img.resize((resize_W,resize_H))\n",
    "            img_array = np.array(img_new).reshape(-1)\n",
    "            images.append(img_array)\n",
    "            labels.append(label)\n",
    "            count += 1\n",
    "            sys.stdout.write(\"Progress calculating: {:.2%}\\r\".format(count/(1462)))\n",
    "            sys.stdout.flush()\n",
    "    index += 1\n",
    "            \n",
    "X = np.array(images)\n",
    "Y = np.array(labels)            "
   ]
  },
  {
   "cell_type": "code",
   "execution_count": 7,
   "metadata": {},
   "outputs": [
    {
     "data": {
      "text/plain": [
       "(1462, 10000)"
      ]
     },
     "execution_count": 7,
     "metadata": {},
     "output_type": "execute_result"
    }
   ],
   "source": [
    "X.shape"
   ]
  },
  {
   "cell_type": "code",
   "execution_count": 8,
   "metadata": {},
   "outputs": [
    {
     "name": "stdout",
     "output_type": "stream",
     "text": [
      "Spliting Test / Train sets ...\n"
     ]
    }
   ],
   "source": [
    "## Split Test / Train\n",
    "print(\"Spliting Test / Train sets ...\")\n",
    "\n",
    "X_train, X_test, y_train, y_test = train_test_split(X, Y, test_size=0.3, random_state=42)"
   ]
  },
  {
   "cell_type": "code",
   "execution_count": 9,
   "metadata": {
    "scrolled": true
   },
   "outputs": [
    {
     "name": "stdout",
     "output_type": "stream",
     "text": [
      "X train shape:  (1023, 10000)\n",
      "Y train size:  1023\n",
      "X test shape:  (439, 10000)\n",
      "Y test size:  439\n"
     ]
    }
   ],
   "source": [
    "## Data Size (after spliting)\n",
    "print(\"X train shape: \", X_train.shape)\n",
    "print(\"Y train size: \", y_train.size)\n",
    "print(\"X test shape: \", X_test.shape)\n",
    "print(\"Y test size: \", y_test.size)"
   ]
  },
  {
   "cell_type": "code",
   "execution_count": 14,
   "metadata": {},
   "outputs": [
    {
     "name": "stderr",
     "output_type": "stream",
     "text": [
      "c:\\users\\sandy\\appdata\\local\\programs\\python\\python37-32\\lib\\site-packages\\sklearn\\model_selection\\_split.py:1943: FutureWarning: You should specify a value for 'cv' instead of relying on the default value. The default value will change from 3 to 5 in version 0.22.\n",
      "  warnings.warn(CV_WARNING, FutureWarning)\n"
     ]
    },
    {
     "name": "stdout",
     "output_type": "stream",
     "text": [
      "Best \"score\" for training data: 0.33724340175953077\n",
      "Best \"c\": 1\n",
      "Best \"kernel\": rbf\n",
      "Best \"gamma\": 0.001\n"
     ]
    }
   ],
   "source": [
    "# Set the parameter candidates\n",
    "parameter_candidates = [\n",
    "  {'C': [1, 10, 100, 1000], 'kernel': ['linear']},\n",
    "  {'C': [1, 10, 100, 1000], 'gamma': [0.001, 0.0001], 'kernel': ['rbf']},\n",
    "]\n",
    "\n",
    "# Create a classifier with the parameter candidates\n",
    "clf = GridSearchCV(estimator=svm.SVC(), param_grid=parameter_candidates, n_jobs=-1)\n",
    "\n",
    "# Train the classifier on training data\n",
    "clf.fit(X_train, y_train)\n",
    "\n",
    "# Print out the results \n",
    "print('Best \"score\" for training data:', clf.best_score_)\n",
    "print('Best \"c\":',clf.best_estimator_.C)\n",
    "print('Best \"kernel\":',clf.best_estimator_.kernel)\n",
    "print('Best \"gamma\":',clf.best_estimator_.gamma)"
   ]
  },
  {
   "cell_type": "code",
   "execution_count": 10,
   "metadata": {},
   "outputs": [
    {
     "name": "stdout",
     "output_type": "stream",
     "text": [
      "Training......\n"
     ]
    },
    {
     "data": {
      "text/plain": [
       "SVC(C=1.0, cache_size=200, class_weight=None, coef0=0.0,\n",
       "  decision_function_shape='ovr', degree=3, gamma=0.001, kernel='rbf',\n",
       "  max_iter=-1, probability=False, random_state=None, shrinking=True,\n",
       "  tol=0.001, verbose=False)"
      ]
     },
     "execution_count": 10,
     "metadata": {},
     "output_type": "execute_result"
    }
   ],
   "source": [
    "# Create the SVC model \n",
    "print(\"Training......\")\n",
    "svc_model = svm.SVC(gamma=0.001, C=1., kernel='rbf')\n",
    "\n",
    "# Fit the data to the SVC model\n",
    "svc_model.fit(X_train, y_train)"
   ]
  },
  {
   "cell_type": "code",
   "execution_count": 11,
   "metadata": {},
   "outputs": [
    {
     "data": {
      "text/plain": [
       "0.32574031890660593"
      ]
     },
     "execution_count": 11,
     "metadata": {},
     "output_type": "execute_result"
    }
   ],
   "source": [
    "# Apply the classifier to the test data, and view the accuracy score\n",
    "svc_model.score(X_test, y_test)  \n",
    "\n",
    "# Train and score a new classifier with the grid search parameters\n",
    "svm.SVC(C=1, kernel='rbf', gamma=0.001).fit(X_train, y_train).score(X_test, y_test)"
   ]
  },
  {
   "cell_type": "code",
   "execution_count": 12,
   "metadata": {},
   "outputs": [
    {
     "name": "stdout",
     "output_type": "stream",
     "text": [
      "Testing.....\n"
     ]
    }
   ],
   "source": [
    "# Predict the label of \"x test\"\n",
    "print(\"Testing.....\")\n",
    "y_hat = svc_model.predict(X_test)"
   ]
  },
  {
   "cell_type": "code",
   "execution_count": 13,
   "metadata": {},
   "outputs": [
    {
     "name": "stdout",
     "output_type": "stream",
     "text": [
      "accuracy: 0.32574031890660593\n",
      "precision: [0.         0.         0.         0.         0.         0.\n",
      " 0.         0.         0.32648402]\n",
      "recall: [0. 0. 0. 0. 0. 0. 0. 0. 1.]\n",
      "F1: [0.         0.         0.         0.         0.         0.\n",
      " 0.         0.         0.49225473]\n"
     ]
    },
    {
     "name": "stderr",
     "output_type": "stream",
     "text": [
      "c:\\users\\sandy\\appdata\\local\\programs\\python\\python37-32\\lib\\site-packages\\sklearn\\metrics\\classification.py:1143: UndefinedMetricWarning: Precision is ill-defined and being set to 0.0 in labels with no predicted samples.\n",
      "  'precision', 'predicted', average, warn_for)\n",
      "c:\\users\\sandy\\appdata\\local\\programs\\python\\python37-32\\lib\\site-packages\\sklearn\\metrics\\classification.py:1143: UndefinedMetricWarning: F-score is ill-defined and being set to 0.0 in labels with no predicted samples.\n",
      "  'precision', 'predicted', average, warn_for)\n"
     ]
    }
   ],
   "source": [
    "## Evaluations \n",
    "from sklearn.metrics import accuracy_score, auc, precision_score, recall_score, f1_score, roc_curve\n",
    "print(\"accuracy: \" + str(accuracy_score(y_test, y_hat)))\n",
    "print(\"precision: \" + str(precision_score(y_test, y_hat, average=None)))\n",
    "print(\"recall: \" + str(recall_score(y_test, y_hat, average=None)))\n",
    "print(\"F1: \" + str(f1_score(y_test, y_hat, average=None)))"
   ]
  },
  {
   "cell_type": "code",
   "execution_count": null,
   "metadata": {},
   "outputs": [],
   "source": []
  },
  {
   "cell_type": "code",
   "execution_count": null,
   "metadata": {},
   "outputs": [],
   "source": []
  }
 ],
 "metadata": {
  "kernelspec": {
   "display_name": "Python 3",
   "language": "python",
   "name": "python3"
  },
  "language_info": {
   "codemirror_mode": {
    "name": "ipython",
    "version": 3
   },
   "file_extension": ".py",
   "mimetype": "text/x-python",
   "name": "python",
   "nbconvert_exporter": "python",
   "pygments_lexer": "ipython3",
   "version": "3.7.0"
  }
 },
 "nbformat": 4,
 "nbformat_minor": 2
}
